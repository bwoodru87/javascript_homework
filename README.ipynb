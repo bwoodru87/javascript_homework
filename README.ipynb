{
 "cells": [
  {
   "cell_type": "markdown",
   "metadata": {},
   "source": [
    "## UFO Sightings\n",
    "\n",
    "##### The premise of this project was to create HTML webpage that contains a table dynamically based upon a dataset of UFO sightings. This webpage will allow users to search through the table for specific pieces of information. To achieve the goal of this project, I was tasked to use the UFO dataset provided in a form of a JavaScript object and write code that would append a table to the webpage and then add new rows of data for each UFO sighting. In addition, I used JavaScript to create multiple search categories so the user can set multiple filters and search for particular UFO sightings using the criteria based on the table columns. Finally, CSS and Bootstrap were used to create the styling of webpage."
   ]
  },
  {
   "cell_type": "code",
   "execution_count": null,
   "metadata": {},
   "outputs": [],
   "source": []
  }
 ],
 "metadata": {
  "kernelspec": {
   "display_name": "Python 3",
   "language": "python",
   "name": "python3"
  },
  "language_info": {
   "codemirror_mode": {
    "name": "ipython",
    "version": 3
   },
   "file_extension": ".py",
   "mimetype": "text/x-python",
   "name": "python",
   "nbconvert_exporter": "python",
   "pygments_lexer": "ipython3",
   "version": "3.7.2"
  }
 },
 "nbformat": 4,
 "nbformat_minor": 2
}
